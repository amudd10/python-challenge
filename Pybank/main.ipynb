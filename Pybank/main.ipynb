{
 "cells": [
  {
   "cell_type": "code",
   "execution_count": 4,
   "id": "78272945-7278-4b83-b495-da53097c452e",
   "metadata": {},
   "outputs": [],
   "source": [
    "#WORKED WITH JACK, JHERNIE, KYLE, AND DAVIT\n",
    "\n",
    "#Importing csv budget file\n",
    "import os\n",
    "import csv\n",
    "\n",
    "#Variable for file path\n",
    "csv_path = 'resources/budget_data.csv'\n",
    "\n",
    "#Reading file"
   ]
  },
  {
   "cell_type": "code",
   "execution_count": 5,
   "id": "2bb94d9b-3c02-429b-9a3f-267a9f193438",
   "metadata": {},
   "outputs": [
    {
     "name": "stdout",
     "output_type": "stream",
     "text": [
      "\n",
      "    Financial Analysis\n",
      "    --------------------\n",
      "    Total Months: 86\n",
      "    Total: $22564198\n",
      "    Average Change: $-8311.11\n",
      "    Greatest Increase in Profits: Mar-13 ($1141840)\n",
      "    Greatest Decrease in Profits: Dec-10 ($-1194133)\n"
     ]
    }
   ],
   "source": [
    "with open(csv_path, 'r') as csvfile:\n",
    "    csv_reader = csv.reader(csvfile, delimiter=',')\n",
    "    csv_header = next(csv_reader)\n",
    "    \n",
    "\n",
    "    #Variable,list declaration\n",
    "    months = 0\n",
    "    total = 0\n",
    "    profit = []\n",
    "    greatest_increase = 0\n",
    "    greatest_decrease = 0\n",
    "    best_month = \"\"\n",
    "    worst_month = \"\"\n",
    "    \n",
    "    #Looping through data\n",
    "    for row in csv_reader:\n",
    "        months += 1\n",
    "        total += int(row[1])\n",
    "        profloss = int(row[1])\n",
    "        profit.append(profloss)\n",
    "        \n",
    "        if int(row[1]) > greatest_increase:\n",
    "            best_month = row[0]\n",
    "            greatest_increase = int(row[1])\n",
    "        \n",
    "        elif int(row[1]) < greatest_decrease:\n",
    "            worst_month = row[0]\n",
    "            greatest_decrease = int(row[1])\n",
    "\n",
    "\n",
    "    #Difference\n",
    "    profloss_change = []\n",
    "\n",
    "    for i in range(len(profit) -1):\n",
    "        monthly_change = (int(profit[i + 1]) - int(profit[i]))\n",
    "        profloss_change.append(monthly_change)\n",
    "\n",
    "    #Sum of profloss\n",
    "    net_avg_change = statistics.mean(profloss_change)\n",
    "\n",
    "\n",
    "\n",
    "\n",
    "    #Printing results\n",
    "    print(f\"\"\"\n",
    "    Financial Analysis\n",
    "    --------------------\n",
    "    Total Months: {months}\n",
    "    Total: ${total}\n",
    "    Average Change: ${round(net_avg_change,2)}\n",
    "    Greatest Increase in Profits: {best_month} (${greatest_increase})\n",
    "    Greatest Decrease in Profits: {worst_month} (${greatest_decrease})\"\"\")"
   ]
  },
  {
   "cell_type": "code",
   "execution_count": 3,
   "id": "b30b6c02-a70f-49bc-b1ce-2c53011446b1",
   "metadata": {},
   "outputs": [
    {
     "data": {
      "text/plain": [
       "197"
      ]
     },
     "execution_count": 3,
     "metadata": {},
     "output_type": "execute_result"
    }
   ],
   "source": [
    "f = open(\"Pybank_output.txt\", \"w\")\n",
    "f.write(f\"\"\"\n",
    "Financial Analysis\n",
    "--------------------\n",
    "Total Months: {months}\n",
    "Total: ${total}\n",
    "Average Change: ${round(net_avg_change,2)}\n",
    "Greatest Increase in Profits: {best_month} (${greatest_increase})\n",
    "Greatest Decrease in Profits: {worst_month} (${greatest_decrease})\"\"\")"
   ]
  },
  {
   "cell_type": "code",
   "execution_count": null,
   "id": "aa5139ac-ba38-4754-afbf-b1df91ca08b4",
   "metadata": {},
   "outputs": [],
   "source": []
  },
  {
   "cell_type": "code",
   "execution_count": null,
   "id": "071aff7b-9028-475e-a1f8-996eeb9c9dbd",
   "metadata": {},
   "outputs": [],
   "source": []
  }
 ],
 "metadata": {
  "kernelspec": {
   "display_name": "Python 3 (ipykernel)",
   "language": "python",
   "name": "python3"
  },
  "language_info": {
   "codemirror_mode": {
    "name": "ipython",
    "version": 3
   },
   "file_extension": ".py",
   "mimetype": "text/x-python",
   "name": "python",
   "nbconvert_exporter": "python",
   "pygments_lexer": "ipython3",
   "version": "3.9.12"
  }
 },
 "nbformat": 4,
 "nbformat_minor": 5
}
